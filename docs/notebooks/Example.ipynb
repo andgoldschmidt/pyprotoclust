{
 "cells": [
  {
   "cell_type": "markdown",
   "metadata": {},
   "source": [
    "# Examples"
   ]
  },
  {
   "cell_type": "code",
   "execution_count": null,
   "metadata": {
    "ExecuteTime": {
     "end_time": "2020-05-25T22:32:22.390334Z",
     "start_time": "2020-05-25T22:32:22.384333Z"
    }
   },
   "outputs": [],
   "source": [
    "%matplotlib inline"
   ]
  },
  {
   "cell_type": "code",
   "execution_count": null,
   "metadata": {
    "ExecuteTime": {
     "end_time": "2020-05-25T22:32:22.406731Z",
     "start_time": "2020-05-25T22:32:22.395734Z"
    }
   },
   "outputs": [],
   "source": [
    "import numpy as np\n",
    "import scipy as sp\n",
    "import scipy.cluster.hierarchy\n",
    "from scipy.spatial.distance import pdist, squareform\n",
    "\n",
    "from sklearn import datasets\n",
    "\n",
    "import matplotlib as mpl\n",
    "import matplotlib.pyplot as plt\n",
    "from mpl_toolkits.mplot3d import Axes3D\n",
    "mpl.rcParams.update({'font.size': 16})\n",
    "\n",
    "import sys\n",
    "sys.path.append('../../')\n",
    "from pyprotoclust import protoclust"
   ]
  },
  {
   "cell_type": "code",
   "execution_count": null,
   "metadata": {
    "ExecuteTime": {
     "end_time": "2020-05-25T22:32:22.425715Z",
     "start_time": "2020-05-25T22:32:22.410156Z"
    },
    "code_folding": []
   },
   "outputs": [],
   "source": [
    "def axlabel(ax, xlabel, ylabel, zlabel=None, params={}):\n",
    "    ''' Shorthand for axis labelling '''\n",
    "    ax.set_xlabel(xlabel, **params)\n",
    "    ax.set_ylabel(ylabel, **params)\n",
    "    if zlabel:\n",
    "        ax.set_zlabel(zlabel, **params)\n",
    "    return ax\n",
    "\n",
    "def fancy_dendrogram(ax, *args, **kwargs):\n",
    "    ''' Nicer plotting of dendrograms courtesy of https://joernhees.de/blog/ '''\n",
    "    title = ''\n",
    "    max_d = kwargs.pop('max_d', None)\n",
    "    if max_d and 'color_threshold' not in kwargs:\n",
    "        kwargs['color_threshold'] = max_d\n",
    "    annotate_above = kwargs.pop('annotate_above', 0)\n",
    "\n",
    "    ddata = sp.cluster.hierarchy.dendrogram(*args, **kwargs)\n",
    "\n",
    "    if kwargs.get('truncate_mode', False):\n",
    "        title = title + ', p={}'.format(kwargs.get('p', None))\n",
    "    \n",
    "    if not kwargs.get('no_plot', False):\n",
    "        ax.set_title(title)\n",
    "        ax.set_ylabel('distance')\n",
    "        for i, d, c in zip(ddata['icoord'], ddata['dcoord'], ddata['color_list']):\n",
    "            x = 0.5 * sum(i[1:3])\n",
    "            y = d[1]\n",
    "            if y > annotate_above:\n",
    "                ax.plot(x, y, 'o', c=c)\n",
    "        if max_d:\n",
    "            ax.axhline(y=max_d, c='k', ls='--')\n",
    "    return ddata"
   ]
  },
  {
   "cell_type": "markdown",
   "metadata": {},
   "source": [
    "## Gaussians in 2D"
   ]
  },
  {
   "cell_type": "markdown",
   "metadata": {},
   "source": [
    "This example shows how the cut height is related to the within-cluster variance."
   ]
  },
  {
   "cell_type": "code",
   "execution_count": null,
   "metadata": {
    "ExecuteTime": {
     "end_time": "2020-05-25T22:32:23.528025Z",
     "start_time": "2020-05-25T22:32:22.489656Z"
    }
   },
   "outputs": [],
   "source": [
    "n = 60\n",
    "np.random.seed(4)\n",
    "\n",
    "examples = [{'mean': [-7, 0], 'cov': [[1, 1], [1, 5]]},\n",
    "            {'mean': [1, -1], 'cov': [[5, 0], [0, 1]]},\n",
    "            {'mean': [3, 7], 'cov': [[1, 0], [0, 1]]}]\n",
    "data = np.vstack([np.random.multivariate_normal(i['mean'], i['cov'], n) for i in examples])\n",
    "\n",
    "# Produce clustering\n",
    "Z, prototypes = protoclust(squareform(pdist(data)), verbose=True, notebook=True)\n",
    "Z = np.array(Z)\n",
    "prototypes = np.array(prototypes)\n",
    "\n",
    "cut_height = 7\n",
    "\n",
    "# Get clusters associated with the cut height\n",
    "T = sp.cluster.hierarchy.fcluster(Z, cut_height, criterion='distance')\n",
    "L,M = sp.cluster.hierarchy.leaders(Z, T)\n",
    "\n",
    "# Set the default color map\n",
    "cmap = plt.cm.get_cmap('tab10', 10)\n",
    "sp.cluster.hierarchy.set_link_color_palette([mpl.colors.to_hex(cmap(k-1)) for k in np.unique(T)])\n",
    "\n",
    "# Plot dendrogram with a specific cut height\n",
    "fig,ax = plt.subplots(1, figsize=[8,5])\n",
    "fancy_dendrogram(ax, Z, max_d=cut_height, above_threshold_color='k')\n",
    "ax.set_xticks([])\n",
    "\n",
    "# Plot data\n",
    "fig,ax = plt.subplots(1, figsize=[5,5])\n",
    "ax.set_aspect('equal')\n",
    "for i in range(3):\n",
    "    ax.scatter(data[i*n:(i+1)*n,0], data[i*n:(i+1)*n,1], color=cmap(T[i*n]-1))\n",
    "\n",
    "# Plot prototypes with cut heights as circles\n",
    "centers = data[prototypes[L]]\n",
    "ax.scatter(*centers.T, c='k', marker='x', s=100)\n",
    "for xy, r in zip(centers, Z[L-len(data), 2]):\n",
    "    ax.add_artist(mpl.patches.Circle(xy, radius=r, fill=False, clip_on=False))"
   ]
  },
  {
   "cell_type": "markdown",
   "metadata": {},
   "source": [
    "## Olivetti Faces"
   ]
  },
  {
   "cell_type": "markdown",
   "metadata": {},
   "source": [
    "This example shows how the method naturally lends itself to datasets where image representatives of clusters are desirable."
   ]
  },
  {
   "cell_type": "code",
   "execution_count": null,
   "metadata": {
    "ExecuteTime": {
     "end_time": "2020-05-25T22:32:26.856066Z",
     "start_time": "2020-05-25T22:32:23.533677Z"
    }
   },
   "outputs": [],
   "source": [
    "# Load faces\n",
    "faces = datasets.fetch_olivetti_faces()\n",
    "X = faces.data\n",
    "n,d = X.shape # d = 64x64 = 4096\n",
    "Y = faces.target\n",
    "\n",
    "# Compute SVD\n",
    "U,S,Vt = np.linalg.svd(X - np.mean(X, axis=0))\n",
    "\n",
    "# Plot SVD basis \n",
    "fig, ax = plt.subplots(1, 3, figsize=[9,3])\n",
    "fig.subplots_adjust(wspace=0.1)\n",
    "\n",
    "for i in range(3):\n",
    "    ax[i].imshow(Vt[:,i].reshape(64,64), cmap='gray')\n",
    "    ax[i].axis(\"off\")\n",
    "    ax[i].set_title('Component {}'.format(i))\n",
    "\n",
    "# Plot SVD spectrum\n",
    "fig, ax = plt.subplots(1, figsize=[5,3])\n",
    "ax.set_title('Olivetti faces SVD spectrum')\n",
    "ax.scatter(list(range(len(S))), S, marker='+', c='k')"
   ]
  },
  {
   "cell_type": "code",
   "execution_count": null,
   "metadata": {
    "ExecuteTime": {
     "end_time": "2020-05-25T22:32:28.694186Z",
     "start_time": "2020-05-25T22:32:26.860446Z"
    }
   },
   "outputs": [],
   "source": [
    "# Plot projected coordinates and color by label\n",
    "fig= plt.figure(figsize=[9,7])\n",
    "ax = fig.add_subplot(111, projection='3d')\n",
    "pcX = X@Vt.T[:,:3]\n",
    "cmap = plt.cm.get_cmap('gnuplot', len(np.unique(Y)))\n",
    "for i,j,k,c in zip(pcX[:,0], pcX[:,1], pcX[:,2], Y):\n",
    "    ax.scatter(i,j,k,color=cmap(c))\n",
    "axlabel(ax, 'A','B','C', {'fontsize': 12});"
   ]
  },
  {
   "cell_type": "code",
   "execution_count": null,
   "metadata": {
    "ExecuteTime": {
     "end_time": "2020-05-25T22:32:30.128277Z",
     "start_time": "2020-05-25T22:32:28.697331Z"
    }
   },
   "outputs": [],
   "source": [
    "# Cluster\n",
    "Z, prototypes = protoclust(squareform(pdist(pcX)), verbose=True, notebook=True)\n",
    "prototypes = np.array(prototypes)\n",
    "\n",
    "cut_height = 6\n",
    "\n",
    "T = sp.cluster.hierarchy.fcluster(Z, cut_height, criterion='distance')\n",
    "indices,_ = sp.cluster.hierarchy.leaders(Z,T)\n",
    "\n",
    "# Discretize color map based on cluster number\n",
    "cmap = plt.cm.get_cmap('nipy_spectral', len(np.unique(T))+1)\n",
    "sp.cluster.hierarchy.set_link_color_palette([mpl.colors.to_hex(cmap(k)) for k in np.unique(T)])\n",
    "\n",
    "# Plot 1: dendrogram\n",
    "fig,ax  = plt.subplots(1, figsize=[9,6])\n",
    "fancy_dendrogram(ax, Z, max_d=cut_height, above_threshold_color='k')\n",
    "ax.set_xticks([]);"
   ]
  },
  {
   "cell_type": "code",
   "execution_count": null,
   "metadata": {
    "ExecuteTime": {
     "end_time": "2020-05-25T22:32:32.464519Z",
     "start_time": "2020-05-25T22:32:30.132555Z"
    }
   },
   "outputs": [],
   "source": [
    "# Plot 2: Projected clusters\n",
    "fig= plt.figure(figsize=[10,8])\n",
    "ax = fig.add_subplot(111, projection='3d')\n",
    "\n",
    "# Project onto the principle components from the SVD\n",
    "pcX = X@Vt.T[:,:3]\n",
    "\n",
    "# Plot faces in this reduced space\n",
    "for index, row in enumerate(pcX):\n",
    "    ax.scatter(*row, color=cmap(T[index]), alpha=0.5)\n",
    "\n",
    "for p in prototypes[indices]:\n",
    "    ax.scatter(*pcX[p, :], edgecolor='k', facecolor=cmap(T[p]), s=800, marker='o')\n",
    "             \n",
    "axlabel(ax, 'A','B','C', {'fontsize': 14});"
   ]
  },
  {
   "cell_type": "code",
   "execution_count": null,
   "metadata": {
    "ExecuteTime": {
     "end_time": "2020-05-25T22:32:33.079238Z",
     "start_time": "2020-05-25T22:32:32.467193Z"
    }
   },
   "outputs": [],
   "source": [
    "# Plot 3: Prototypes\n",
    "fig, axes = plt.subplots(2,len(indices)//2+1, figsize=[12,4])\n",
    "fig.subplots_adjust(wspace=.1, hspace=0)\n",
    "for i,iax in enumerate(axes.flatten()):\n",
    "    if i < len(indices):\n",
    "        p = prototypes[indices[i]]\n",
    "        c = cmap(T[p])\n",
    "        iax.set_xticks([])\n",
    "        iax.set_yticks([])\n",
    "        iax.set_facecolor(c)\n",
    "        im = X[p].reshape(64,64)\n",
    "    else:\n",
    "        im = np.ones([64,64])\n",
    "        iax.axis('off')\n",
    "    iax.imshow(im, alpha=0.6, cmap='gray', vmin=0, vmax=1)"
   ]
  }
 ],
 "metadata": {
  "kernelspec": {
   "display_name": "Python 3",
   "language": "python",
   "name": "python3"
  },
  "language_info": {
   "codemirror_mode": {
    "name": "ipython",
    "version": 3
   },
   "file_extension": ".py",
   "mimetype": "text/x-python",
   "name": "python",
   "nbconvert_exporter": "python",
   "pygments_lexer": "ipython3",
   "version": "3.7.6"
  },
  "latex_envs": {
   "LaTeX_envs_menu_present": true,
   "autoclose": false,
   "autocomplete": true,
   "bibliofile": "biblio.bib",
   "cite_by": "apalike",
   "current_citInitial": 1,
   "eqLabelWithNumbers": true,
   "eqNumInitial": 1,
   "hotkeys": {
    "equation": "Ctrl-E",
    "itemize": "Ctrl-I"
   },
   "labels_anchors": false,
   "latex_user_defs": false,
   "report_style_numbering": false,
   "user_envs_cfg": false
  },
  "toc": {
   "base_numbering": 1,
   "nav_menu": {},
   "number_sections": true,
   "sideBar": true,
   "skip_h1_title": false,
   "title_cell": "Table of Contents",
   "title_sidebar": "Contents",
   "toc_cell": false,
   "toc_position": {
    "height": "calc(100% - 180px)",
    "left": "10px",
    "top": "150px",
    "width": "370.573px"
   },
   "toc_section_display": true,
   "toc_window_display": true
  },
  "varInspector": {
   "cols": {
    "lenName": 16,
    "lenType": 16,
    "lenVar": 40
   },
   "kernels_config": {
    "python": {
     "delete_cmd_postfix": "",
     "delete_cmd_prefix": "del ",
     "library": "var_list.py",
     "varRefreshCmd": "print(var_dic_list())"
    },
    "r": {
     "delete_cmd_postfix": ") ",
     "delete_cmd_prefix": "rm(",
     "library": "var_list.r",
     "varRefreshCmd": "cat(var_dic_list()) "
    }
   },
   "types_to_exclude": [
    "module",
    "function",
    "builtin_function_or_method",
    "instance",
    "_Feature"
   ],
   "window_display": false
  }
 },
 "nbformat": 4,
 "nbformat_minor": 2
}
